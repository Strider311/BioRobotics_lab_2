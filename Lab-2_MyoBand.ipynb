{
 "cells": [
  {
   "attachments": {},
   "cell_type": "markdown",
   "metadata": {},
   "source": [
    "# Lab 2: MyoBand\n",
    "\n",
    "This lab will focus on data collection and processing using the Myo Gesture control Armband.\n"
   ]
  },
  {
   "attachments": {},
   "cell_type": "markdown",
   "metadata": {},
   "source": [
    "## Data collection:\n",
    "\n",
    "Record 3 different distinct gestures and pay attention to the time of recording as it will be necessary when segmenting the data later. \n",
    "\n",
    "Example 3 Gestures:\n",
    "Rock, Paper, Scissors\n",
    "\n",
    "Hold each gesture for a minute, then for 20 seconds hold your hand flat to be able to identify the different gestures."
   ]
  },
  {
   "attachments": {},
   "cell_type": "markdown",
   "metadata": {},
   "source": [
    "## Step 1: Configuring Virtual environments and installing dependencies\n",
    "\n",
    "Click ctrl+shift+p (command+shift+p on Mac) and type venv to set up a venv with the requirements"
   ]
  },
  {
   "cell_type": "code",
   "execution_count": null,
   "metadata": {},
   "outputs": [],
   "source": [
    "import pandas as pd\n",
    "import numpy as np\n",
    "import scipy\n",
    "import scipy.signal\n",
    "import matplotlib.pyplot as plt\n",
    "import os"
   ]
  },
  {
   "attachments": {},
   "cell_type": "markdown",
   "metadata": {},
   "source": [
    "## Step 2: Reading Data\n",
    "\n",
    "Similar to the previous lab, load up the csv file into a dataframe and get the description."
   ]
  },
  {
   "cell_type": "code",
   "execution_count": null,
   "metadata": {},
   "outputs": [],
   "source": [
    "'''\n",
    "Your code here\n",
    "note, once your data frame is loaded, remove the spaces in the columns for easier handling \n",
    "\n",
    "myo_df.columns = myo_df.columns.str.replace(' ', '')\n",
    "'''"
   ]
  },
  {
   "attachments": {},
   "cell_type": "markdown",
   "metadata": {},
   "source": [
    "## Step 3: Rectify and Filter the signal\n",
    "\n",
    "The filtering function is given as a support. Display the filtered EMG signal"
   ]
  },
  {
   "cell_type": "code",
   "execution_count": null,
   "metadata": {},
   "outputs": [],
   "source": [
    "def filteremg(emg, low_pass=3, sfreq=200, high_band=20, low_band=95):\n",
    "    \"\"\"\n",
    "    emg: EMG data\n",
    "    high: high-pass cut off frequency\n",
    "    low: low-pass cut off frequency\n",
    "    sfreq: sampling frequency\n",
    "    \"\"\"\n",
    "    # Zero mean emg signal\n",
    "    emg = emg - emg.mean()\n",
    "    \n",
    "    # normalise cut-off frequencies to sampling frequency\n",
    "    high_band = high_band/(sfreq/2)\n",
    "    low_band = low_band/(sfreq/2)\n",
    "    \n",
    "    \n",
    "    # create bandpass filter for EMG\n",
    "    b1, a1 = sp.signal.butter(4, [high_band,low_band], btype='bandpass', analog=True)\n",
    "    \n",
    "    # process EMG signal: filter EMG\n",
    "    emg_filtered = sp.signal.filtfilt(b1, a1, emg)    \n",
    "    \n",
    "    # process EMG signal: rectify\n",
    "    emg_rectified = abs(emg_filtered)\n",
    "    \n",
    "    # create lowpass filter and apply to rectified signal to get EMG envelope\n",
    "    low_pass = low_pass/(sfreq/2)\n",
    "    b2, a2 = sp.signal.butter(4, low_pass, fs=sfreq, btype='lowpass')\n",
    "    emg_envelope = sp.signal.lfilter(b2, a2, emg_rectified)\n",
    "    \n",
    "    return emg_envelope"
   ]
  },
  {
   "attachments": {},
   "cell_type": "markdown",
   "metadata": {},
   "source": [
    "## Step 4: Plot the filtered EMG Channel signals\n",
    "\n",
    "Plot all the channels."
   ]
  },
  {
   "cell_type": "code",
   "execution_count": null,
   "metadata": {},
   "outputs": [],
   "source": [
    "'''\n",
    " Your code here\n",
    "'''"
   ]
  },
  {
   "attachments": {},
   "cell_type": "markdown",
   "metadata": {},
   "source": [
    "## Step 5: Segment into different Actions\n",
    "First, you will need need to set pandas indexes to timestamps:\n",
    "\n",
    "`myo_df.index = pd.to_datetime(myo_df['Timestamp'], format='%Y-%m-%d %H:%M:%S %f' )`\n",
    "\n",
    "Then you can create separate dataframes for each gesture\n",
    "\n",
    "`start = pd.to_datetime('2019-02-14 14:46:53')`\n",
    "\n",
    "`stop  = pd.to_datetime('2019-02-14 14:48:53')`\n",
    "\n",
    "`gesture_df = myo_df[start:stop]`\n",
    "\n",
    "Once each gesture is in its dataframe, plot it and analyse in your lab report."
   ]
  }
 ],
 "metadata": {
  "kernelspec": {
   "display_name": "Python 3",
   "language": "python",
   "name": "python3"
  },
  "language_info": {
   "name": "python",
   "version": "3.11.2"
  },
  "orig_nbformat": 4,
  "vscode": {
   "interpreter": {
    "hash": "0dc473c2bc09f2c7cd419cafb6a4dc170eeb9e590aaaa02f46f1ef8f344a2e4a"
   }
  }
 },
 "nbformat": 4,
 "nbformat_minor": 2
}
